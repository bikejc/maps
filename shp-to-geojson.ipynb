{
 "cells": [
  {
   "cell_type": "code",
   "execution_count": 1,
   "id": "39981ac5",
   "metadata": {},
   "outputs": [],
   "source": [
    "from utz import *"
   ]
  },
  {
   "cell_type": "code",
   "execution_count": 4,
   "id": "1185e1b6",
   "metadata": {},
   "outputs": [
    {
     "data": {
      "text/plain": [
       "'/opt/homebrew/Caskroom/mambaforge/base/envs/bjc/bin/python'"
      ]
     },
     "execution_count": 4,
     "metadata": {},
     "output_type": "execute_result"
    }
   ],
   "source": [
    "sys.executable"
   ]
  },
  {
   "cell_type": "code",
   "execution_count": 5,
   "id": "2e0927b5",
   "metadata": {},
   "outputs": [],
   "source": [
    "#from simpledbf import Dbf5"
   ]
  },
  {
   "cell_type": "code",
   "execution_count": 6,
   "id": "ade7e64c",
   "metadata": {},
   "outputs": [],
   "source": [
    "#name = 'Requested Shapefiles/Proposed Full Network'\n",
    "name = 'On-Street Parking/On_Street_Parking'"
   ]
  },
  {
   "cell_type": "code",
   "execution_count": 7,
   "id": "aa4da764",
   "metadata": {},
   "outputs": [
    {
     "data": {
      "text/plain": [
       "<open Collection 'On-Street Parking/On_Street_Parking.shp:On_Street_Parking', mode 'r' at 0x123dd59f0>"
      ]
     },
     "execution_count": 7,
     "metadata": {},
     "output_type": "execute_result"
    }
   ],
   "source": [
    "import fiona\n",
    "\n",
    "shape = fiona.open(f\"{name}.shp\")\n",
    "shape"
   ]
  },
  {
   "cell_type": "code",
   "execution_count": 8,
   "id": "567ed5dd",
   "metadata": {},
   "outputs": [
    {
     "data": {
      "text/plain": [
       "{'properties': {'OBJECTID': 'int:10',\n",
       "  'Type': 'str:12',\n",
       "  'WARD2': 'str:5',\n",
       "  '_lengthRem': 'str:200',\n",
       "  '_parking_s': 'str:200',\n",
       "  '_NumberSpa': 'str:200',\n",
       "  'SHAPE_Leng': 'float:19.11',\n",
       "  'Length': 'float:19.11',\n",
       "  'Count_': 'int:10',\n",
       "  'Sum_COUNT': 'float:19.11',\n",
       "  'Sum_SUM_TO': 'float:19.11',\n",
       "  'Sum_SUM__1': 'float:19.11',\n",
       "  'Sum_SUM_WH': 'float:19.11',\n",
       "  'Sum_SUM_BL': 'float:19.11',\n",
       "  'Sum_SUM_AI': 'float:19.11',\n",
       "  'Sum_SUM_AS': 'float:19.11',\n",
       "  'Sum_SUM_NH': 'float:19.11',\n",
       "  'Sum_SUM_OT': 'float:19.11',\n",
       "  'Sum_SUM__2': 'float:19.11',\n",
       "  'Sum_SUM_HI': 'float:19.11',\n",
       "  'Sum_SUM_NO': 'float:19.11',\n",
       "  'Sum_SUM_EI': 'float:19.11',\n",
       "  'Sum_area': 'float:19.11',\n",
       "  'Sum_perimi': 'float:19.11',\n",
       "  'Sum_factor': 'float:19.11',\n",
       "  'Sum_Shape_': 'float:19.11',\n",
       "  'Sum_Shap_1': 'float:19.11',\n",
       "  'Shape_Le_1': 'float:19.11'},\n",
       " 'geometry': 'LineString'}"
      ]
     },
     "execution_count": 8,
     "metadata": {},
     "output_type": "execute_result"
    }
   ],
   "source": [
    "shape.schema"
   ]
  },
  {
   "cell_type": "code",
   "execution_count": 9,
   "id": "70df51c0",
   "metadata": {},
   "outputs": [
    {
     "data": {
      "text/plain": [
       "(0, <fiona.model.Feature at 0x123dd6890>)"
      ]
     },
     "execution_count": 9,
     "metadata": {},
     "output_type": "execute_result"
    }
   ],
   "source": [
    "shp = next(shape.items())\n",
    "shp"
   ]
  },
  {
   "cell_type": "code",
   "execution_count": 10,
   "id": "0e3b9d5d",
   "metadata": {},
   "outputs": [
    {
     "data": {
      "text/plain": [
       "10728"
      ]
     },
     "execution_count": 10,
     "metadata": {},
     "output_type": "execute_result"
    }
   ],
   "source": [
    "len(list(shape.keys()))"
   ]
  },
  {
   "cell_type": "code",
   "execution_count": 11,
   "id": "d3571763",
   "metadata": {},
   "outputs": [],
   "source": [
    "import geopandas\n",
    "\n",
    "shp_file = geopandas.read_file(f'{name}.shp')\n",
    "shp_file.to_file(f'{name}.geojson', driver='GeoJSON')"
   ]
  },
  {
   "cell_type": "code",
   "execution_count": 12,
   "id": "aaf7a9bc",
   "metadata": {
    "scrolled": false
   },
   "outputs": [
    {
     "ename": "AttributeError",
     "evalue": "'Index' object has no attribute '_format_flat'",
     "output_type": "error",
     "traceback": [
      "\u001b[0;31m---------------------------------------------------------------------------\u001b[0m",
      "\u001b[0;31mAttributeError\u001b[0m                            Traceback (most recent call last)",
      "File \u001b[0;32m/opt/homebrew/Caskroom/mambaforge/base/envs/bjc/lib/python3.10/site-packages/IPython/core/formatters.py:344\u001b[0m, in \u001b[0;36mBaseFormatter.__call__\u001b[0;34m(self, obj)\u001b[0m\n\u001b[1;32m    342\u001b[0m     method \u001b[38;5;241m=\u001b[39m get_real_method(obj, \u001b[38;5;28mself\u001b[39m\u001b[38;5;241m.\u001b[39mprint_method)\n\u001b[1;32m    343\u001b[0m     \u001b[38;5;28;01mif\u001b[39;00m method \u001b[38;5;129;01mis\u001b[39;00m \u001b[38;5;129;01mnot\u001b[39;00m \u001b[38;5;28;01mNone\u001b[39;00m:\n\u001b[0;32m--> 344\u001b[0m         \u001b[38;5;28;01mreturn\u001b[39;00m \u001b[43mmethod\u001b[49m\u001b[43m(\u001b[49m\u001b[43m)\u001b[49m\n\u001b[1;32m    345\u001b[0m     \u001b[38;5;28;01mreturn\u001b[39;00m \u001b[38;5;28;01mNone\u001b[39;00m\n\u001b[1;32m    346\u001b[0m \u001b[38;5;28;01melse\u001b[39;00m:\n",
      "File \u001b[0;32m/opt/homebrew/Caskroom/mambaforge/base/envs/bjc/lib/python3.10/site-packages/pandas/core/frame.py:1136\u001b[0m, in \u001b[0;36m_repr_html_\u001b[0;34m(self)\u001b[0m\n\u001b[1;32m   1134\u001b[0m \u001b[38;5;66;03m# more generally, whatever we allow in NDArrayBackedExtensionBlock\u001b[39;00m\n\u001b[1;32m   1135\u001b[0m arr \u001b[38;5;241m=\u001b[39m cast(\u001b[38;5;124m\"\u001b[39m\u001b[38;5;124mnp.ndarray | DatetimeArray | TimedeltaArray | PeriodArray\u001b[39m\u001b[38;5;124m\"\u001b[39m, arr)\n\u001b[0;32m-> 1136\u001b[0m \u001b[38;5;28;01mreturn\u001b[39;00m arr\u001b[38;5;241m.\u001b[39mT\n",
      "File \u001b[0;32m/opt/homebrew/Caskroom/mambaforge/base/envs/bjc/lib/python3.10/site-packages/pandas/io/formats/format.py:1108\u001b[0m, in \u001b[0;36mto_html\u001b[0;34m(self, buf, encoding, classes, notebook, border, table_id, render_links)\u001b[0m\n\u001b[1;32m   1079\u001b[0m \u001b[38;5;28;01mdef\u001b[39;00m \u001b[38;5;21mformat_array\u001b[39m(\n\u001b[1;32m   1080\u001b[0m     values: ArrayLike,\n\u001b[1;32m   1081\u001b[0m     formatter: Callable \u001b[38;5;241m|\u001b[39m \u001b[38;5;28;01mNone\u001b[39;00m,\n\u001b[0;32m   (...)\u001b[0m\n\u001b[1;32m   1090\u001b[0m     fallback_formatter: Callable \u001b[38;5;241m|\u001b[39m \u001b[38;5;28;01mNone\u001b[39;00m \u001b[38;5;241m=\u001b[39m \u001b[38;5;28;01mNone\u001b[39;00m,\n\u001b[1;32m   1091\u001b[0m ) \u001b[38;5;241m-\u001b[39m\u001b[38;5;241m>\u001b[39m \u001b[38;5;28mlist\u001b[39m[\u001b[38;5;28mstr\u001b[39m]:\n\u001b[1;32m   1092\u001b[0m \u001b[38;5;250m    \u001b[39m\u001b[38;5;124;03m\"\"\"\u001b[39;00m\n\u001b[1;32m   1093\u001b[0m \u001b[38;5;124;03m    Format an array for printing.\u001b[39;00m\n\u001b[1;32m   1094\u001b[0m \n\u001b[1;32m   1095\u001b[0m \u001b[38;5;124;03m    Parameters\u001b[39;00m\n\u001b[1;32m   1096\u001b[0m \u001b[38;5;124;03m    ----------\u001b[39;00m\n\u001b[1;32m   1097\u001b[0m \u001b[38;5;124;03m    values : np.ndarray or ExtensionArray\u001b[39;00m\n\u001b[1;32m   1098\u001b[0m \u001b[38;5;124;03m    formatter\u001b[39;00m\n\u001b[1;32m   1099\u001b[0m \u001b[38;5;124;03m    float_format\u001b[39;00m\n\u001b[1;32m   1100\u001b[0m \u001b[38;5;124;03m    na_rep\u001b[39;00m\n\u001b[1;32m   1101\u001b[0m \u001b[38;5;124;03m    digits\u001b[39;00m\n\u001b[1;32m   1102\u001b[0m \u001b[38;5;124;03m    space\u001b[39;00m\n\u001b[1;32m   1103\u001b[0m \u001b[38;5;124;03m    justify\u001b[39;00m\n\u001b[1;32m   1104\u001b[0m \u001b[38;5;124;03m    decimal\u001b[39;00m\n\u001b[1;32m   1105\u001b[0m \u001b[38;5;124;03m    leading_space : bool, optional, default True\u001b[39;00m\n\u001b[1;32m   1106\u001b[0m \u001b[38;5;124;03m        Whether the array should be formatted with a leading space.\u001b[39;00m\n\u001b[1;32m   1107\u001b[0m \u001b[38;5;124;03m        When an array as a column of a Series or DataFrame, we do want\u001b[39;00m\n\u001b[0;32m-> 1108\u001b[0m \u001b[38;5;124;03m        the leading space to pad between columns.\u001b[39;00m\n\u001b[1;32m   1109\u001b[0m \n\u001b[1;32m   1110\u001b[0m \u001b[38;5;124;03m        When formatting an Index subclass\u001b[39;00m\n\u001b[1;32m   1111\u001b[0m \u001b[38;5;124;03m        (e.g. IntervalIndex._get_values_for_csv), we don't want the\u001b[39;00m\n\u001b[1;32m   1112\u001b[0m \u001b[38;5;124;03m        leading space since it should be left-aligned.\u001b[39;00m\n\u001b[1;32m   1113\u001b[0m \u001b[38;5;124;03m    fallback_formatter\u001b[39;00m\n\u001b[1;32m   1114\u001b[0m \n\u001b[1;32m   1115\u001b[0m \u001b[38;5;124;03m    Returns\u001b[39;00m\n\u001b[1;32m   1116\u001b[0m \u001b[38;5;124;03m    -------\u001b[39;00m\n\u001b[1;32m   1117\u001b[0m \u001b[38;5;124;03m    List[str]\u001b[39;00m\n\u001b[1;32m   1118\u001b[0m \u001b[38;5;124;03m    \"\"\"\u001b[39;00m\n\u001b[1;32m   1119\u001b[0m     fmt_klass: \u001b[38;5;28mtype\u001b[39m[_GenericArrayFormatter]\n\u001b[1;32m   1120\u001b[0m     \u001b[38;5;28;01mif\u001b[39;00m lib\u001b[38;5;241m.\u001b[39mis_np_dtype(values\u001b[38;5;241m.\u001b[39mdtype, \u001b[38;5;124m\"\u001b[39m\u001b[38;5;124mM\u001b[39m\u001b[38;5;124m\"\u001b[39m):\n",
      "File \u001b[0;32m/opt/homebrew/Caskroom/mambaforge/base/envs/bjc/lib/python3.10/site-packages/pandas/io/formats/html.py:88\u001b[0m, in \u001b[0;36mHTMLFormatter.to_string\u001b[0;34m(self)\u001b[0m\n\u001b[1;32m     87\u001b[0m \u001b[38;5;28;01mdef\u001b[39;00m \u001b[38;5;21mto_string\u001b[39m(\u001b[38;5;28mself\u001b[39m) \u001b[38;5;241m-\u001b[39m\u001b[38;5;241m>\u001b[39m \u001b[38;5;28mstr\u001b[39m:\n\u001b[0;32m---> 88\u001b[0m     lines \u001b[38;5;241m=\u001b[39m \u001b[38;5;28;43mself\u001b[39;49m\u001b[38;5;241;43m.\u001b[39;49m\u001b[43mrender\u001b[49m\u001b[43m(\u001b[49m\u001b[43m)\u001b[49m\n\u001b[1;32m     89\u001b[0m     \u001b[38;5;28;01mif\u001b[39;00m \u001b[38;5;28many\u001b[39m(\u001b[38;5;28misinstance\u001b[39m(x, \u001b[38;5;28mstr\u001b[39m) \u001b[38;5;28;01mfor\u001b[39;00m x \u001b[38;5;129;01min\u001b[39;00m lines):\n\u001b[1;32m     90\u001b[0m         lines \u001b[38;5;241m=\u001b[39m [\u001b[38;5;28mstr\u001b[39m(x) \u001b[38;5;28;01mfor\u001b[39;00m x \u001b[38;5;129;01min\u001b[39;00m lines]\n",
      "File \u001b[0;32m/opt/homebrew/Caskroom/mambaforge/base/envs/bjc/lib/python3.10/site-packages/pandas/io/formats/html.py:644\u001b[0m, in \u001b[0;36mNotebookFormatter.render\u001b[0;34m(self)\u001b[0m\n\u001b[1;32m    642\u001b[0m \u001b[38;5;28mself\u001b[39m\u001b[38;5;241m.\u001b[39mwrite(\u001b[38;5;124m\"\u001b[39m\u001b[38;5;124m<div>\u001b[39m\u001b[38;5;124m\"\u001b[39m)\n\u001b[1;32m    643\u001b[0m \u001b[38;5;28mself\u001b[39m\u001b[38;5;241m.\u001b[39mwrite_style()\n\u001b[0;32m--> 644\u001b[0m \u001b[38;5;28;43msuper\u001b[39;49m\u001b[43m(\u001b[49m\u001b[43m)\u001b[49m\u001b[38;5;241;43m.\u001b[39;49m\u001b[43mrender\u001b[49m\u001b[43m(\u001b[49m\u001b[43m)\u001b[49m\n\u001b[1;32m    645\u001b[0m \u001b[38;5;28mself\u001b[39m\u001b[38;5;241m.\u001b[39mwrite(\u001b[38;5;124m\"\u001b[39m\u001b[38;5;124m</div>\u001b[39m\u001b[38;5;124m\"\u001b[39m)\n\u001b[1;32m    646\u001b[0m \u001b[38;5;28;01mreturn\u001b[39;00m \u001b[38;5;28mself\u001b[39m\u001b[38;5;241m.\u001b[39melements\n",
      "File \u001b[0;32m/opt/homebrew/Caskroom/mambaforge/base/envs/bjc/lib/python3.10/site-packages/pandas/io/formats/html.py:94\u001b[0m, in \u001b[0;36mHTMLFormatter.render\u001b[0;34m(self)\u001b[0m\n\u001b[1;32m     93\u001b[0m \u001b[38;5;28;01mdef\u001b[39;00m \u001b[38;5;21mrender\u001b[39m(\u001b[38;5;28mself\u001b[39m) \u001b[38;5;241m-\u001b[39m\u001b[38;5;241m>\u001b[39m \u001b[38;5;28mlist\u001b[39m[\u001b[38;5;28mstr\u001b[39m]:\n\u001b[0;32m---> 94\u001b[0m     \u001b[38;5;28;43mself\u001b[39;49m\u001b[38;5;241;43m.\u001b[39;49m\u001b[43m_write_table\u001b[49m\u001b[43m(\u001b[49m\u001b[43m)\u001b[49m\n\u001b[1;32m     96\u001b[0m     \u001b[38;5;28;01mif\u001b[39;00m \u001b[38;5;28mself\u001b[39m\u001b[38;5;241m.\u001b[39mshould_show_dimensions:\n\u001b[1;32m     97\u001b[0m         by \u001b[38;5;241m=\u001b[39m \u001b[38;5;28mchr\u001b[39m(\u001b[38;5;241m215\u001b[39m)  \u001b[38;5;66;03m# ×  # noqa: RUF003\u001b[39;00m\n",
      "File \u001b[0;32m/opt/homebrew/Caskroom/mambaforge/base/envs/bjc/lib/python3.10/site-packages/pandas/io/formats/html.py:267\u001b[0m, in \u001b[0;36mHTMLFormatter._write_table\u001b[0;34m(self, indent)\u001b[0m\n\u001b[1;32m    261\u001b[0m \u001b[38;5;28mself\u001b[39m\u001b[38;5;241m.\u001b[39mwrite(\n\u001b[1;32m    262\u001b[0m     \u001b[38;5;124mf\u001b[39m\u001b[38;5;124m'\u001b[39m\u001b[38;5;124m<table\u001b[39m\u001b[38;5;132;01m{\u001b[39;00mborder_attr\u001b[38;5;132;01m}\u001b[39;00m\u001b[38;5;124m class=\u001b[39m\u001b[38;5;124m\"\u001b[39m\u001b[38;5;132;01m{\u001b[39;00m\u001b[38;5;124m\"\u001b[39m\u001b[38;5;124m \u001b[39m\u001b[38;5;124m\"\u001b[39m\u001b[38;5;241m.\u001b[39mjoin(_classes)\u001b[38;5;132;01m}\u001b[39;00m\u001b[38;5;124m\"\u001b[39m\u001b[38;5;132;01m{\u001b[39;00mid_section\u001b[38;5;132;01m}\u001b[39;00m\u001b[38;5;124m>\u001b[39m\u001b[38;5;124m'\u001b[39m,\n\u001b[1;32m    263\u001b[0m     indent,\n\u001b[1;32m    264\u001b[0m )\n\u001b[1;32m    266\u001b[0m \u001b[38;5;28;01mif\u001b[39;00m \u001b[38;5;28mself\u001b[39m\u001b[38;5;241m.\u001b[39mfmt\u001b[38;5;241m.\u001b[39mheader \u001b[38;5;129;01mor\u001b[39;00m \u001b[38;5;28mself\u001b[39m\u001b[38;5;241m.\u001b[39mshow_row_idx_names:\n\u001b[0;32m--> 267\u001b[0m     \u001b[38;5;28;43mself\u001b[39;49m\u001b[38;5;241;43m.\u001b[39;49m\u001b[43m_write_header\u001b[49m\u001b[43m(\u001b[49m\u001b[43mindent\u001b[49m\u001b[43m \u001b[49m\u001b[38;5;241;43m+\u001b[39;49m\u001b[43m \u001b[49m\u001b[38;5;28;43mself\u001b[39;49m\u001b[38;5;241;43m.\u001b[39;49m\u001b[43mindent_delta\u001b[49m\u001b[43m)\u001b[49m\n\u001b[1;32m    269\u001b[0m \u001b[38;5;28mself\u001b[39m\u001b[38;5;241m.\u001b[39m_write_body(indent \u001b[38;5;241m+\u001b[39m \u001b[38;5;28mself\u001b[39m\u001b[38;5;241m.\u001b[39mindent_delta)\n\u001b[1;32m    271\u001b[0m \u001b[38;5;28mself\u001b[39m\u001b[38;5;241m.\u001b[39mwrite(\u001b[38;5;124m\"\u001b[39m\u001b[38;5;124m</table>\u001b[39m\u001b[38;5;124m\"\u001b[39m, indent)\n",
      "File \u001b[0;32m/opt/homebrew/Caskroom/mambaforge/base/envs/bjc/lib/python3.10/site-packages/pandas/io/formats/html.py:403\u001b[0m, in \u001b[0;36mHTMLFormatter._write_header\u001b[0;34m(self, indent)\u001b[0m\n\u001b[1;32m    400\u001b[0m \u001b[38;5;28mself\u001b[39m\u001b[38;5;241m.\u001b[39mwrite(\u001b[38;5;124m\"\u001b[39m\u001b[38;5;124m<thead>\u001b[39m\u001b[38;5;124m\"\u001b[39m, indent)\n\u001b[1;32m    402\u001b[0m \u001b[38;5;28;01mif\u001b[39;00m \u001b[38;5;28mself\u001b[39m\u001b[38;5;241m.\u001b[39mfmt\u001b[38;5;241m.\u001b[39mheader:\n\u001b[0;32m--> 403\u001b[0m     \u001b[38;5;28;43mself\u001b[39;49m\u001b[38;5;241;43m.\u001b[39;49m\u001b[43m_write_col_header\u001b[49m\u001b[43m(\u001b[49m\u001b[43mindent\u001b[49m\u001b[43m \u001b[49m\u001b[38;5;241;43m+\u001b[39;49m\u001b[43m \u001b[49m\u001b[38;5;28;43mself\u001b[39;49m\u001b[38;5;241;43m.\u001b[39;49m\u001b[43mindent_delta\u001b[49m\u001b[43m)\u001b[49m\n\u001b[1;32m    405\u001b[0m \u001b[38;5;28;01mif\u001b[39;00m \u001b[38;5;28mself\u001b[39m\u001b[38;5;241m.\u001b[39mshow_row_idx_names:\n\u001b[1;32m    406\u001b[0m     \u001b[38;5;28mself\u001b[39m\u001b[38;5;241m.\u001b[39m_write_row_header(indent \u001b[38;5;241m+\u001b[39m \u001b[38;5;28mself\u001b[39m\u001b[38;5;241m.\u001b[39mindent_delta)\n",
      "File \u001b[0;32m/opt/homebrew/Caskroom/mambaforge/base/envs/bjc/lib/python3.10/site-packages/pandas/io/formats/html.py:383\u001b[0m, in \u001b[0;36mHTMLFormatter._write_col_header\u001b[0;34m(self, indent)\u001b[0m\n\u001b[1;32m    381\u001b[0m     \u001b[38;5;28;01melse\u001b[39;00m:\n\u001b[1;32m    382\u001b[0m         row\u001b[38;5;241m.\u001b[39mappend(\u001b[38;5;124m\"\u001b[39m\u001b[38;5;124m\"\u001b[39m)\n\u001b[0;32m--> 383\u001b[0m row\u001b[38;5;241m.\u001b[39mextend(\u001b[38;5;28;43mself\u001b[39;49m\u001b[38;5;241;43m.\u001b[39;49m\u001b[43m_get_columns_formatted_values\u001b[49m\u001b[43m(\u001b[49m\u001b[43m)\u001b[49m)\n\u001b[1;32m    384\u001b[0m align \u001b[38;5;241m=\u001b[39m \u001b[38;5;28mself\u001b[39m\u001b[38;5;241m.\u001b[39mfmt\u001b[38;5;241m.\u001b[39mjustify\n\u001b[1;32m    386\u001b[0m \u001b[38;5;28;01mif\u001b[39;00m is_truncated_horizontally:\n",
      "File \u001b[0;32m/opt/homebrew/Caskroom/mambaforge/base/envs/bjc/lib/python3.10/site-packages/pandas/io/formats/html.py:611\u001b[0m, in \u001b[0;36mNotebookFormatter._get_columns_formatted_values\u001b[0;34m(self)\u001b[0m\n\u001b[1;32m    609\u001b[0m \u001b[38;5;28;01mdef\u001b[39;00m \u001b[38;5;21m_get_columns_formatted_values\u001b[39m(\u001b[38;5;28mself\u001b[39m) \u001b[38;5;241m-\u001b[39m\u001b[38;5;241m>\u001b[39m \u001b[38;5;28mlist\u001b[39m[\u001b[38;5;28mstr\u001b[39m]:\n\u001b[1;32m    610\u001b[0m     \u001b[38;5;66;03m# only reached with non-Multi Index\u001b[39;00m\n\u001b[0;32m--> 611\u001b[0m     \u001b[38;5;28;01mreturn\u001b[39;00m \u001b[38;5;28;43mself\u001b[39;49m\u001b[38;5;241;43m.\u001b[39;49m\u001b[43mcolumns\u001b[49m\u001b[38;5;241;43m.\u001b[39;49m\u001b[43m_format_flat\u001b[49m(include_name\u001b[38;5;241m=\u001b[39m\u001b[38;5;28;01mFalse\u001b[39;00m)\n",
      "\u001b[0;31mAttributeError\u001b[0m: 'Index' object has no attribute '_format_flat'"
     ]
    },
    {
     "data": {
      "text/plain": [
       "       OBJECTID   Type WARD2          _lengthRem _parking_s  \\\n",
       "0             1  SWALK     D  263.67325693429046          0   \n",
       "1             2  SWALK     D   27.23342099556099          1   \n",
       "2             3  SWALK     D   85.07944954497862          2   \n",
       "3             4    NaN     D     93.052326988215          3   \n",
       "4             5    NaN     D   44.24626636435544          4   \n",
       "...         ...    ...   ...                 ...        ...   \n",
       "10723     10755  SWALK     A    23.3650950459854      15306   \n",
       "10724     10756  SWALK     A  23.180829631147986      15307   \n",
       "10725     10757  SWALK     A  23.617766639958504      15309   \n",
       "10726     10758  SWALK     A  24.840752536189992      15310   \n",
       "10727     10759  SWALK     A  104.50820114165708      15311   \n",
       "\n",
       "               _NumberSpa  SHAPE_Leng      Length  Count_  Sum_COUNT  \\\n",
       "0      13.183662846714522  263.673294  263.673294       1      184.0   \n",
       "1      1.3616710497780495   27.233318   27.233318       1      184.0   \n",
       "2       4.253972477248931   85.079270   85.079270       1      184.0   \n",
       "3        4.65261634941075   93.052289   93.052289       1      184.0   \n",
       "4       2.212313318217772   44.246363   44.246363       1      184.0   \n",
       "...                   ...         ...         ...     ...        ...   \n",
       "10723    1.16825475229927   23.365249   23.365249       1      243.0   \n",
       "10724  1.1590414815573993   23.180779   23.180779       1      243.0   \n",
       "10725   1.180888331997925   23.617957   23.617957       1      243.0   \n",
       "10726  1.2420376268094997   24.840773   24.840773       1      243.0   \n",
       "10727   5.225410057082854  104.508347  104.508347       1      243.0   \n",
       "\n",
       "       Sum_SUM_TO  Sum_SUM__1  Sum_SUM_WH  Sum_SUM_BL  Sum_SUM_AI  Sum_SUM_AS  \\\n",
       "0         41227.0     38623.0     19681.0      2459.0       225.0      6421.0   \n",
       "1         41227.0     38623.0     19681.0      2459.0       225.0      6421.0   \n",
       "2         41227.0     38623.0     19681.0      2459.0       225.0      6421.0   \n",
       "3         41227.0     38623.0     19681.0      2459.0       225.0      6421.0   \n",
       "4         41227.0     38623.0     19681.0      2459.0       225.0      6421.0   \n",
       "...           ...         ...         ...         ...         ...         ...   \n",
       "10723     41370.0     39542.0     12761.0     15467.0       166.0      6694.0   \n",
       "10724     41370.0     39542.0     12761.0     15467.0       166.0      6694.0   \n",
       "10725     41370.0     39542.0     12761.0     15467.0       166.0      6694.0   \n",
       "10726     41370.0     39542.0     12761.0     15467.0       166.0      6694.0   \n",
       "10727     41370.0     39542.0     12761.0     15467.0       166.0      6694.0   \n",
       "\n",
       "       Sum_SUM_NH  Sum_SUM_OT  Sum_SUM__2  Sum_SUM_HI  Sum_SUM_NO  Sum_SUM_EI  \\\n",
       "0            28.0      9809.0      2604.0     17907.0     23320.0     30684.0   \n",
       "1            28.0      9809.0      2604.0     17907.0     23320.0     30684.0   \n",
       "2            28.0      9809.0      2604.0     17907.0     23320.0     30684.0   \n",
       "3            28.0      9809.0      2604.0     17907.0     23320.0     30684.0   \n",
       "4            28.0      9809.0      2604.0     17907.0     23320.0     30684.0   \n",
       "...           ...         ...         ...         ...         ...         ...   \n",
       "10723        45.0      4409.0      1828.0      8575.0     32795.0     30767.0   \n",
       "10724        45.0      4409.0      1828.0      8575.0     32795.0     30767.0   \n",
       "10725        45.0      4409.0      1828.0      8575.0     32795.0     30767.0   \n",
       "10726        45.0      4409.0      1828.0      8575.0     32795.0     30767.0   \n",
       "10727        45.0      4409.0      1828.0      8575.0     32795.0     30767.0   \n",
       "\n",
       "           Sum_area    Sum_perimi  Sum_factor    Sum_Shape_    Sum_Shap_1  \\\n",
       "0      6.837808e+07  41410.458659   25.078593  41410.458771  6.837808e+07   \n",
       "1      6.837808e+07  41410.458659   25.078593  41410.458771  6.837808e+07   \n",
       "2      6.837808e+07  41410.458659   25.078593  41410.458771  6.837808e+07   \n",
       "3      6.837808e+07  41410.458659   25.078593  41410.458771  6.837808e+07   \n",
       "4      6.837808e+07  41410.458659   25.078593  41410.458771  6.837808e+07   \n",
       "...             ...           ...         ...           ...           ...   \n",
       "10723  1.938160e+08  68949.658705   24.528703  68949.659170  1.938160e+08   \n",
       "10724  1.938160e+08  68949.658705   24.528703  68949.659170  1.938160e+08   \n",
       "10725  1.938160e+08  68949.658705   24.528703  68949.659170  1.938160e+08   \n",
       "10726  1.938160e+08  68949.658705   24.528703  68949.659170  1.938160e+08   \n",
       "10727  1.938160e+08  68949.658705   24.528703  68949.659170  1.938160e+08   \n",
       "\n",
       "       Shape_Le_1                                           geometry  \n",
       "0      263.673294  LINESTRING (619309.894 698130.041, 619312.542 ...  \n",
       "1       27.233318  LINESTRING (619341.636 698067.107, 619335.516 ...  \n",
       "2       85.079270  LINESTRING (619449.244 698015.270, 619442.992 ...  \n",
       "3       93.052289  LINESTRING (619560.477 698098.845, 619520.837 ...  \n",
       "4       44.246363  LINESTRING (619547.676 698119.477, 619566.892 ...  \n",
       "...           ...                                                ...  \n",
       "10723   23.365249  LINESTRING (601939.955 679106.723, 601946.230 ...  \n",
       "10724   23.180779  LINESTRING (601901.230 679131.640, 601907.450 ...  \n",
       "10725   23.617957  LINESTRING (601818.830 679180.691, 601824.220 ...  \n",
       "10726   24.840773  LINESTRING (601778.459 679206.253, 601781.030 ...  \n",
       "10727  104.508347  LINESTRING (601680.620 679269.018, 601684.128 ...  \n",
       "\n",
       "[10728 rows x 29 columns]"
      ]
     },
     "execution_count": 12,
     "metadata": {},
     "output_type": "execute_result"
    }
   ],
   "source": [
    "shp_file"
   ]
  },
  {
   "cell_type": "code",
   "execution_count": 14,
   "id": "768647a1",
   "metadata": {},
   "outputs": [
    {
     "data": {
      "text/plain": [
       "Type\n",
       "SWALK        8555\n",
       "INVISIBLE       7\n",
       "Name: count, dtype: int64"
      ]
     },
     "execution_count": 14,
     "metadata": {},
     "output_type": "execute_result"
    }
   ],
   "source": [
    "shp_file.Type.value_counts()"
   ]
  },
  {
   "cell_type": "code",
   "execution_count": 15,
   "id": "ef2aaf77",
   "metadata": {},
   "outputs": [
    {
     "data": {
      "text/plain": [
       "Index(['OBJECTID', 'Type', 'WARD2', '_lengthRem', '_parking_s', '_NumberSpa',\n",
       "       'SHAPE_Leng', 'Length', 'Count_', 'Sum_COUNT', 'Sum_SUM_TO',\n",
       "       'Sum_SUM__1', 'Sum_SUM_WH', 'Sum_SUM_BL', 'Sum_SUM_AI', 'Sum_SUM_AS',\n",
       "       'Sum_SUM_NH', 'Sum_SUM_OT', 'Sum_SUM__2', 'Sum_SUM_HI', 'Sum_SUM_NO',\n",
       "       'Sum_SUM_EI', 'Sum_area', 'Sum_perimi', 'Sum_factor', 'Sum_Shape_',\n",
       "       'Sum_Shap_1', 'Shape_Le_1', 'geometry'],\n",
       "      dtype='object')"
      ]
     },
     "execution_count": 15,
     "metadata": {},
     "output_type": "execute_result"
    }
   ],
   "source": [
    "shp_file.columns"
   ]
  },
  {
   "cell_type": "code",
   "execution_count": 17,
   "id": "51f30002",
   "metadata": {},
   "outputs": [
    {
     "data": {
      "text/plain": [
       "0        13.183662846714522\n",
       "1        1.3616710497780495\n",
       "2         4.253972477248931\n",
       "3          4.65261634941075\n",
       "4         2.212313318217772\n",
       "                ...        \n",
       "10723      1.16825475229927\n",
       "10724    1.1590414815573993\n",
       "10725     1.180888331997925\n",
       "10726    1.2420376268094997\n",
       "10727     5.225410057082854\n",
       "Name: _NumberSpa, Length: 10728, dtype: object"
      ]
     },
     "execution_count": 17,
     "metadata": {},
     "output_type": "execute_result"
    }
   ],
   "source": [
    "shp_file._NumberSpa"
   ]
  },
  {
   "cell_type": "code",
   "execution_count": 13,
   "id": "d90ce83a",
   "metadata": {},
   "outputs": [
    {
     "data": {
      "text/plain": [
       "'3.10.11 | packaged by conda-forge | (main, May 10 2023, 19:01:19) [Clang 14.0.6 ]'"
      ]
     },
     "execution_count": 13,
     "metadata": {},
     "output_type": "execute_result"
    }
   ],
   "source": [
    "sys.version"
   ]
  },
  {
   "cell_type": "code",
   "execution_count": 11,
   "id": "83b793d7",
   "metadata": {},
   "outputs": [
    {
     "name": "stderr",
     "output_type": "stream",
     "text": [
      "/opt/conda/lib/python3.9/site-packages/pyproj/crs/crs.py:131: FutureWarning: '+init=<authority>:<code>' syntax is deprecated. '<authority>:<code>' is the preferred initialization method. When making the change, be mindful of axis order changes: https://pyproj4.github.io/pyproj/stable/gotchas.html#axis-order-changes-in-proj-6\n",
      "  in_crs_string = _prepare_from_proj_string(in_crs_string)\n",
      "/opt/conda/lib/python3.9/site-packages/pyproj/crs/crs.py:131: FutureWarning: '+init=<authority>:<code>' syntax is deprecated. '<authority>:<code>' is the preferred initialization method. When making the change, be mindful of axis order changes: https://pyproj4.github.io/pyproj/stable/gotchas.html#axis-order-changes-in-proj-6\n",
      "  in_crs_string = _prepare_from_proj_string(in_crs_string)\n"
     ]
    }
   ],
   "source": [
    "from pyproj import Proj, transform\n",
    "\n",
    "inProj = Proj(init='epsg:3424')\n",
    "outProj = Proj(init='epsg:4326')\n",
    "\n",
    "x1, y1 = 618607.3712275065, 700487.8407178372\n",
    "x2, y2 = transform(inProj, outProj, x1, y1)\n",
    "x2, y2"
   ]
  },
  {
   "cell_type": "code",
   "execution_count": 18,
   "id": "d3dae0e1",
   "metadata": {},
   "outputs": [],
   "source": [
    "f = Dbf5(f'{name}.dbf')"
   ]
  },
  {
   "cell_type": "code",
   "execution_count": 19,
   "id": "fd95f9f6",
   "metadata": {},
   "outputs": [
    {
     "data": {
      "text/html": [
       "<div>\n",
       "<style scoped>\n",
       "    .dataframe tbody tr th:only-of-type {\n",
       "        vertical-align: middle;\n",
       "    }\n",
       "\n",
       "    .dataframe tbody tr th {\n",
       "        vertical-align: top;\n",
       "    }\n",
       "\n",
       "    .dataframe thead th {\n",
       "        text-align: right;\n",
       "    }\n",
       "</style>\n",
       "<table border=\"1\" class=\"dataframe\">\n",
       "  <thead>\n",
       "    <tr style=\"text-align: right;\">\n",
       "      <th></th>\n",
       "      <th>Shape_Leng</th>\n",
       "      <th>Type</th>\n",
       "      <th>Street</th>\n",
       "      <th>From_</th>\n",
       "      <th>To</th>\n",
       "      <th>Direction</th>\n",
       "      <th>Lane_Count</th>\n",
       "    </tr>\n",
       "  </thead>\n",
       "  <tbody>\n",
       "    <tr>\n",
       "      <th>0</th>\n",
       "      <td>1828.458738</td>\n",
       "      <td>NEIGHBORHOOD GREENWAY</td>\n",
       "      <td>HAGUE ST</td>\n",
       "      <td>PATERSON PLANK RD</td>\n",
       "      <td>NELSON ST</td>\n",
       "      <td>W</td>\n",
       "      <td>NaN</td>\n",
       "    </tr>\n",
       "    <tr>\n",
       "      <th>1</th>\n",
       "      <td>773.229923</td>\n",
       "      <td>NEIGHBORHOOD GREENWAY</td>\n",
       "      <td>LEONARD ST</td>\n",
       "      <td>NELSON ST</td>\n",
       "      <td>TERRACE AVE</td>\n",
       "      <td>E/W</td>\n",
       "      <td>NaN</td>\n",
       "    </tr>\n",
       "    <tr>\n",
       "      <th>2</th>\n",
       "      <td>1977.834527</td>\n",
       "      <td>NEIGHBORHOOD GREENWAY</td>\n",
       "      <td>LEONARD ST</td>\n",
       "      <td>NELSON ST</td>\n",
       "      <td>CENTRAL AVE</td>\n",
       "      <td>E</td>\n",
       "      <td>NaN</td>\n",
       "    </tr>\n",
       "    <tr>\n",
       "      <th>3</th>\n",
       "      <td>1976.023126</td>\n",
       "      <td>BIKE LANE</td>\n",
       "      <td>GRACE ST</td>\n",
       "      <td>CENTRAL AVE</td>\n",
       "      <td>NELSON ST</td>\n",
       "      <td>W</td>\n",
       "      <td>1</td>\n",
       "    </tr>\n",
       "    <tr>\n",
       "      <th>4</th>\n",
       "      <td>1980.164565</td>\n",
       "      <td>BIKE LANE</td>\n",
       "      <td>POPLAR ST</td>\n",
       "      <td>NELSON ST</td>\n",
       "      <td>CENTRAL AVE</td>\n",
       "      <td>E</td>\n",
       "      <td>1</td>\n",
       "    </tr>\n",
       "    <tr>\n",
       "      <th>...</th>\n",
       "      <td>...</td>\n",
       "      <td>...</td>\n",
       "      <td>...</td>\n",
       "      <td>...</td>\n",
       "      <td>...</td>\n",
       "      <td>...</td>\n",
       "      <td>...</td>\n",
       "    </tr>\n",
       "    <tr>\n",
       "      <th>306</th>\n",
       "      <td>3045.489279</td>\n",
       "      <td>SHARED USE PATH</td>\n",
       "      <td>NaN</td>\n",
       "      <td>NaN</td>\n",
       "      <td>NaN</td>\n",
       "      <td>NaN</td>\n",
       "      <td>NaN</td>\n",
       "    </tr>\n",
       "    <tr>\n",
       "      <th>307</th>\n",
       "      <td>991.190128</td>\n",
       "      <td>PROTECTED BIKE LANE</td>\n",
       "      <td>COUNTY ROAD</td>\n",
       "      <td>MANHATTAN AVE</td>\n",
       "      <td>NaN</td>\n",
       "      <td>N/S</td>\n",
       "      <td>2</td>\n",
       "    </tr>\n",
       "    <tr>\n",
       "      <th>308</th>\n",
       "      <td>4903.331095</td>\n",
       "      <td>SHARED USE LANE</td>\n",
       "      <td>COUNTY RD</td>\n",
       "      <td>COUNTY RD</td>\n",
       "      <td>CITY LINE</td>\n",
       "      <td>E/W</td>\n",
       "      <td>2</td>\n",
       "    </tr>\n",
       "    <tr>\n",
       "      <th>309</th>\n",
       "      <td>92.342794</td>\n",
       "      <td>NEIGHBORHOOD GREENWAY</td>\n",
       "      <td>NELSON AVE</td>\n",
       "      <td>LEONARD ST</td>\n",
       "      <td>LEONARD ST</td>\n",
       "      <td>N/S</td>\n",
       "      <td>2</td>\n",
       "    </tr>\n",
       "    <tr>\n",
       "      <th>310</th>\n",
       "      <td>3817.225665</td>\n",
       "      <td>SHARED USE PATH</td>\n",
       "      <td>NaN</td>\n",
       "      <td>NaN</td>\n",
       "      <td>NaN</td>\n",
       "      <td>NaN</td>\n",
       "      <td>NaN</td>\n",
       "    </tr>\n",
       "  </tbody>\n",
       "</table>\n",
       "<p>311 rows × 7 columns</p>\n",
       "</div>"
      ],
      "text/plain": [
       "      Shape_Leng                   Type       Street              From_  \\\n",
       "0    1828.458738  NEIGHBORHOOD GREENWAY     HAGUE ST  PATERSON PLANK RD   \n",
       "1     773.229923  NEIGHBORHOOD GREENWAY   LEONARD ST          NELSON ST   \n",
       "2    1977.834527  NEIGHBORHOOD GREENWAY   LEONARD ST          NELSON ST   \n",
       "3    1976.023126              BIKE LANE     GRACE ST        CENTRAL AVE   \n",
       "4    1980.164565              BIKE LANE    POPLAR ST          NELSON ST   \n",
       "..           ...                    ...          ...                ...   \n",
       "306  3045.489279        SHARED USE PATH          NaN                NaN   \n",
       "307   991.190128    PROTECTED BIKE LANE  COUNTY ROAD      MANHATTAN AVE   \n",
       "308  4903.331095        SHARED USE LANE    COUNTY RD          COUNTY RD   \n",
       "309    92.342794  NEIGHBORHOOD GREENWAY   NELSON AVE         LEONARD ST   \n",
       "310  3817.225665        SHARED USE PATH          NaN                NaN   \n",
       "\n",
       "              To Direction Lane_Count  \n",
       "0      NELSON ST         W        NaN  \n",
       "1    TERRACE AVE       E/W        NaN  \n",
       "2    CENTRAL AVE         E        NaN  \n",
       "3      NELSON ST         W          1  \n",
       "4    CENTRAL AVE         E          1  \n",
       "..           ...       ...        ...  \n",
       "306          NaN       NaN        NaN  \n",
       "307          NaN       N/S          2  \n",
       "308    CITY LINE       E/W          2  \n",
       "309   LEONARD ST       N/S          2  \n",
       "310          NaN       NaN        NaN  \n",
       "\n",
       "[311 rows x 7 columns]"
      ]
     },
     "execution_count": 19,
     "metadata": {},
     "output_type": "execute_result"
    }
   ],
   "source": [
    "df = f.to_dataframe()\n",
    "df"
   ]
  },
  {
   "cell_type": "code",
   "execution_count": 20,
   "id": "a9418372",
   "metadata": {},
   "outputs": [
    {
     "data": {
      "text/plain": [
       "NEIGHBORHOOD GREENWAY    107\n",
       "BIKE LANE                 72\n",
       "PROTECTED BIKE LANE       64\n",
       "SHARED USE LANE           39\n",
       "SHARED USE PATH           29\n",
       "Name: Type, dtype: int64"
      ]
     },
     "execution_count": 20,
     "metadata": {},
     "output_type": "execute_result"
    }
   ],
   "source": [
    "df.Type.value_counts()"
   ]
  },
  {
   "cell_type": "code",
   "execution_count": null,
   "id": "56cc7f18",
   "metadata": {},
   "outputs": [],
   "source": []
  }
 ],
 "metadata": {
  "kernelspec": {
   "display_name": "Python 3 (ipykernel)",
   "language": "python",
   "name": "python3"
  },
  "language_info": {
   "codemirror_mode": {
    "name": "ipython",
    "version": 3
   },
   "file_extension": ".py",
   "mimetype": "text/x-python",
   "name": "python",
   "nbconvert_exporter": "python",
   "pygments_lexer": "ipython3",
   "version": "3.10.11"
  }
 },
 "nbformat": 4,
 "nbformat_minor": 5
}
