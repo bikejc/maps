{
 "cells": [
  {
   "cell_type": "code",
   "execution_count": 1,
   "id": "39981ac5",
   "metadata": {},
   "outputs": [],
   "source": [
    "from utz import *"
   ]
  },
  {
   "cell_type": "code",
   "execution_count": 2,
   "id": "2e0927b5",
   "metadata": {},
   "outputs": [
    {
     "name": "stdout",
     "output_type": "stream",
     "text": [
      "PyTables is not installed. No support for HDF output.\n",
      "SQLalchemy is not installed. No support for SQL output.\n"
     ]
    }
   ],
   "source": [
    "from simpledbf import Dbf5"
   ]
  },
  {
   "cell_type": "code",
   "execution_count": 3,
   "id": "ade7e64c",
   "metadata": {},
   "outputs": [],
   "source": [
    "name = 'Requested Shapefiles/Proposed Full Network'"
   ]
  },
  {
   "cell_type": "code",
   "execution_count": 4,
   "id": "aa4da764",
   "metadata": {},
   "outputs": [
    {
     "data": {
      "text/plain": [
       "<open Collection 'Requested Shapefiles/Proposed Full Network.shp:Proposed Full Network', mode 'r' at 0xffff3ea85bb0>"
      ]
     },
     "execution_count": 4,
     "metadata": {},
     "output_type": "execute_result"
    }
   ],
   "source": [
    "import fiona\n",
    "\n",
    "shape = fiona.open(f\"{name}.shp\")\n",
    "shape"
   ]
  },
  {
   "cell_type": "code",
   "execution_count": 5,
   "id": "567ed5dd",
   "metadata": {},
   "outputs": [
    {
     "data": {
      "text/plain": [
       "{'properties': OrderedDict([('Shape_Leng', 'float:19.11'),\n",
       "              ('Type', 'str:254'),\n",
       "              ('Street', 'str:254'),\n",
       "              ('From_', 'str:254'),\n",
       "              ('To', 'str:254'),\n",
       "              ('Direction', 'str:254'),\n",
       "              ('Lane_Count', 'str:254')]),\n",
       " 'geometry': 'LineString'}"
      ]
     },
     "execution_count": 5,
     "metadata": {},
     "output_type": "execute_result"
    }
   ],
   "source": [
    "shape.schema"
   ]
  },
  {
   "cell_type": "code",
   "execution_count": 6,
   "id": "70df51c0",
   "metadata": {},
   "outputs": [
    {
     "data": {
      "text/plain": [
       "(0,\n",
       " {'type': 'Feature',\n",
       "  'id': '0',\n",
       "  'properties': OrderedDict([('Shape_Leng', 1828.45873806),\n",
       "               ('Type', 'NEIGHBORHOOD GREENWAY'),\n",
       "               ('Street', 'HAGUE ST'),\n",
       "               ('From_', 'PATERSON PLANK RD'),\n",
       "               ('To', 'NELSON ST'),\n",
       "               ('Direction', 'W'),\n",
       "               ('Lane_Count', None)]),\n",
       "  'geometry': {'type': 'LineString',\n",
       "   'coordinates': [(618607.3712275065, 700487.8407178372),\n",
       "    (618592.8860202543, 700484.7367214262),\n",
       "    (618080.7321889177, 700745.4697957635),\n",
       "    (617800.3410174213, 700882.0439976677),\n",
       "    (616975.9230468385, 701306.0382284299)]}})"
      ]
     },
     "execution_count": 6,
     "metadata": {},
     "output_type": "execute_result"
    }
   ],
   "source": [
    "shp = next(shape.items())\n",
    "shp"
   ]
  },
  {
   "cell_type": "code",
   "execution_count": 7,
   "id": "0e3b9d5d",
   "metadata": {},
   "outputs": [
    {
     "data": {
      "text/plain": [
       "311"
      ]
     },
     "execution_count": 7,
     "metadata": {},
     "output_type": "execute_result"
    }
   ],
   "source": [
    "len(list(shape.keys()))"
   ]
  },
  {
   "cell_type": "code",
   "execution_count": 8,
   "id": "d3571763",
   "metadata": {},
   "outputs": [],
   "source": [
    "import geopandas\n",
    "\n",
    "shp_file = geopandas.read_file(f'{name}.shp')\n",
    "shp_file.to_file(f'{name}.geojson', driver='GeoJSON')"
   ]
  },
  {
   "cell_type": "code",
   "execution_count": 21,
   "id": "aaf7a9bc",
   "metadata": {},
   "outputs": [
    {
     "data": {
      "text/html": [
       "<div>\n",
       "<style scoped>\n",
       "    .dataframe tbody tr th:only-of-type {\n",
       "        vertical-align: middle;\n",
       "    }\n",
       "\n",
       "    .dataframe tbody tr th {\n",
       "        vertical-align: top;\n",
       "    }\n",
       "\n",
       "    .dataframe thead th {\n",
       "        text-align: right;\n",
       "    }\n",
       "</style>\n",
       "<table border=\"1\" class=\"dataframe\">\n",
       "  <thead>\n",
       "    <tr style=\"text-align: right;\">\n",
       "      <th></th>\n",
       "      <th>Shape_Leng</th>\n",
       "      <th>Type</th>\n",
       "      <th>Street</th>\n",
       "      <th>From_</th>\n",
       "      <th>To</th>\n",
       "      <th>Direction</th>\n",
       "      <th>Lane_Count</th>\n",
       "      <th>geometry</th>\n",
       "    </tr>\n",
       "  </thead>\n",
       "  <tbody>\n",
       "    <tr>\n",
       "      <th>0</th>\n",
       "      <td>1828.458738</td>\n",
       "      <td>NEIGHBORHOOD GREENWAY</td>\n",
       "      <td>HAGUE ST</td>\n",
       "      <td>PATERSON PLANK RD</td>\n",
       "      <td>NELSON ST</td>\n",
       "      <td>W</td>\n",
       "      <td>None</td>\n",
       "      <td>LINESTRING (618607.371 700487.841, 618592.886 ...</td>\n",
       "    </tr>\n",
       "    <tr>\n",
       "      <th>1</th>\n",
       "      <td>773.229923</td>\n",
       "      <td>NEIGHBORHOOD GREENWAY</td>\n",
       "      <td>LEONARD ST</td>\n",
       "      <td>NELSON ST</td>\n",
       "      <td>TERRACE AVE</td>\n",
       "      <td>E/W</td>\n",
       "      <td>None</td>\n",
       "      <td>LINESTRING (616900.989 701165.299, 616626.008 ...</td>\n",
       "    </tr>\n",
       "    <tr>\n",
       "      <th>2</th>\n",
       "      <td>1977.834527</td>\n",
       "      <td>NEIGHBORHOOD GREENWAY</td>\n",
       "      <td>LEONARD ST</td>\n",
       "      <td>NELSON ST</td>\n",
       "      <td>CENTRAL AVE</td>\n",
       "      <td>E</td>\n",
       "      <td>None</td>\n",
       "      <td>LINESTRING (616863.979 701080.698, 617679.286 ...</td>\n",
       "    </tr>\n",
       "    <tr>\n",
       "      <th>3</th>\n",
       "      <td>1976.023126</td>\n",
       "      <td>BIKE LANE</td>\n",
       "      <td>GRACE ST</td>\n",
       "      <td>CENTRAL AVE</td>\n",
       "      <td>NELSON ST</td>\n",
       "      <td>W</td>\n",
       "      <td>1</td>\n",
       "      <td>LINESTRING (618505.795 699951.520, 617840.563 ...</td>\n",
       "    </tr>\n",
       "    <tr>\n",
       "      <th>4</th>\n",
       "      <td>1980.164565</td>\n",
       "      <td>BIKE LANE</td>\n",
       "      <td>POPLAR ST</td>\n",
       "      <td>NELSON ST</td>\n",
       "      <td>CENTRAL AVE</td>\n",
       "      <td>E</td>\n",
       "      <td>1</td>\n",
       "      <td>LINESTRING (618388.639 699709.981, 617717.698 ...</td>\n",
       "    </tr>\n",
       "    <tr>\n",
       "      <th>...</th>\n",
       "      <td>...</td>\n",
       "      <td>...</td>\n",
       "      <td>...</td>\n",
       "      <td>...</td>\n",
       "      <td>...</td>\n",
       "      <td>...</td>\n",
       "      <td>...</td>\n",
       "      <td>...</td>\n",
       "    </tr>\n",
       "    <tr>\n",
       "      <th>306</th>\n",
       "      <td>3045.489279</td>\n",
       "      <td>SHARED USE PATH</td>\n",
       "      <td>None</td>\n",
       "      <td>None</td>\n",
       "      <td>None</td>\n",
       "      <td>None</td>\n",
       "      <td>None</td>\n",
       "      <td>LINESTRING (611650.507 697294.856, 611457.290 ...</td>\n",
       "    </tr>\n",
       "    <tr>\n",
       "      <th>307</th>\n",
       "      <td>991.190128</td>\n",
       "      <td>PROTECTED BIKE LANE</td>\n",
       "      <td>COUNTY ROAD</td>\n",
       "      <td>MANHATTAN AVE</td>\n",
       "      <td>None</td>\n",
       "      <td>N/S</td>\n",
       "      <td>2</td>\n",
       "      <td>LINESTRING (613163.634 697515.215, 613333.828 ...</td>\n",
       "    </tr>\n",
       "    <tr>\n",
       "      <th>308</th>\n",
       "      <td>4903.331095</td>\n",
       "      <td>SHARED USE LANE</td>\n",
       "      <td>COUNTY RD</td>\n",
       "      <td>COUNTY RD</td>\n",
       "      <td>CITY LINE</td>\n",
       "      <td>E/W</td>\n",
       "      <td>2</td>\n",
       "      <td>LINESTRING (613631.285 698308.951, 613554.003 ...</td>\n",
       "    </tr>\n",
       "    <tr>\n",
       "      <th>309</th>\n",
       "      <td>92.342794</td>\n",
       "      <td>NEIGHBORHOOD GREENWAY</td>\n",
       "      <td>NELSON AVE</td>\n",
       "      <td>LEONARD ST</td>\n",
       "      <td>LEONARD ST</td>\n",
       "      <td>N/S</td>\n",
       "      <td>2</td>\n",
       "      <td>LINESTRING (616900.989 701165.299, 616863.979 ...</td>\n",
       "    </tr>\n",
       "    <tr>\n",
       "      <th>310</th>\n",
       "      <td>3817.225665</td>\n",
       "      <td>SHARED USE PATH</td>\n",
       "      <td>None</td>\n",
       "      <td>None</td>\n",
       "      <td>None</td>\n",
       "      <td>None</td>\n",
       "      <td>None</td>\n",
       "      <td>LINESTRING (618723.437 695077.062, 618851.909 ...</td>\n",
       "    </tr>\n",
       "  </tbody>\n",
       "</table>\n",
       "<p>311 rows × 8 columns</p>\n",
       "</div>"
      ],
      "text/plain": [
       "      Shape_Leng                   Type       Street              From_  \\\n",
       "0    1828.458738  NEIGHBORHOOD GREENWAY     HAGUE ST  PATERSON PLANK RD   \n",
       "1     773.229923  NEIGHBORHOOD GREENWAY   LEONARD ST          NELSON ST   \n",
       "2    1977.834527  NEIGHBORHOOD GREENWAY   LEONARD ST          NELSON ST   \n",
       "3    1976.023126              BIKE LANE     GRACE ST        CENTRAL AVE   \n",
       "4    1980.164565              BIKE LANE    POPLAR ST          NELSON ST   \n",
       "..           ...                    ...          ...                ...   \n",
       "306  3045.489279        SHARED USE PATH         None               None   \n",
       "307   991.190128    PROTECTED BIKE LANE  COUNTY ROAD      MANHATTAN AVE   \n",
       "308  4903.331095        SHARED USE LANE    COUNTY RD          COUNTY RD   \n",
       "309    92.342794  NEIGHBORHOOD GREENWAY   NELSON AVE         LEONARD ST   \n",
       "310  3817.225665        SHARED USE PATH         None               None   \n",
       "\n",
       "              To Direction Lane_Count  \\\n",
       "0      NELSON ST         W       None   \n",
       "1    TERRACE AVE       E/W       None   \n",
       "2    CENTRAL AVE         E       None   \n",
       "3      NELSON ST         W          1   \n",
       "4    CENTRAL AVE         E          1   \n",
       "..           ...       ...        ...   \n",
       "306         None      None       None   \n",
       "307         None       N/S          2   \n",
       "308    CITY LINE       E/W          2   \n",
       "309   LEONARD ST       N/S          2   \n",
       "310         None      None       None   \n",
       "\n",
       "                                              geometry  \n",
       "0    LINESTRING (618607.371 700487.841, 618592.886 ...  \n",
       "1    LINESTRING (616900.989 701165.299, 616626.008 ...  \n",
       "2    LINESTRING (616863.979 701080.698, 617679.286 ...  \n",
       "3    LINESTRING (618505.795 699951.520, 617840.563 ...  \n",
       "4    LINESTRING (618388.639 699709.981, 617717.698 ...  \n",
       "..                                                 ...  \n",
       "306  LINESTRING (611650.507 697294.856, 611457.290 ...  \n",
       "307  LINESTRING (613163.634 697515.215, 613333.828 ...  \n",
       "308  LINESTRING (613631.285 698308.951, 613554.003 ...  \n",
       "309  LINESTRING (616900.989 701165.299, 616863.979 ...  \n",
       "310  LINESTRING (618723.437 695077.062, 618851.909 ...  \n",
       "\n",
       "[311 rows x 8 columns]"
      ]
     },
     "execution_count": 21,
     "metadata": {},
     "output_type": "execute_result"
    }
   ],
   "source": [
    "shp_file"
   ]
  },
  {
   "cell_type": "code",
   "execution_count": 11,
   "id": "83b793d7",
   "metadata": {},
   "outputs": [
    {
     "name": "stderr",
     "output_type": "stream",
     "text": [
      "/opt/conda/lib/python3.9/site-packages/pyproj/crs/crs.py:131: FutureWarning: '+init=<authority>:<code>' syntax is deprecated. '<authority>:<code>' is the preferred initialization method. When making the change, be mindful of axis order changes: https://pyproj4.github.io/pyproj/stable/gotchas.html#axis-order-changes-in-proj-6\n",
      "  in_crs_string = _prepare_from_proj_string(in_crs_string)\n",
      "/opt/conda/lib/python3.9/site-packages/pyproj/crs/crs.py:131: FutureWarning: '+init=<authority>:<code>' syntax is deprecated. '<authority>:<code>' is the preferred initialization method. When making the change, be mindful of axis order changes: https://pyproj4.github.io/pyproj/stable/gotchas.html#axis-order-changes-in-proj-6\n",
      "  in_crs_string = _prepare_from_proj_string(in_crs_string)\n"
     ]
    }
   ],
   "source": [
    "from pyproj import Proj, transform\n",
    "\n",
    "inProj = Proj(init='epsg:3424')\n",
    "outProj = Proj(init='epsg:4326')\n",
    "\n",
    "x1, y1 = 618607.3712275065, 700487.8407178372\n",
    "x2, y2 = transform(inProj, outProj, x1, y1)\n",
    "x2, y2"
   ]
  },
  {
   "cell_type": "code",
   "execution_count": 18,
   "id": "d3dae0e1",
   "metadata": {},
   "outputs": [],
   "source": [
    "f = Dbf5(f'{name}.dbf')"
   ]
  },
  {
   "cell_type": "code",
   "execution_count": 19,
   "id": "fd95f9f6",
   "metadata": {},
   "outputs": [
    {
     "data": {
      "text/html": [
       "<div>\n",
       "<style scoped>\n",
       "    .dataframe tbody tr th:only-of-type {\n",
       "        vertical-align: middle;\n",
       "    }\n",
       "\n",
       "    .dataframe tbody tr th {\n",
       "        vertical-align: top;\n",
       "    }\n",
       "\n",
       "    .dataframe thead th {\n",
       "        text-align: right;\n",
       "    }\n",
       "</style>\n",
       "<table border=\"1\" class=\"dataframe\">\n",
       "  <thead>\n",
       "    <tr style=\"text-align: right;\">\n",
       "      <th></th>\n",
       "      <th>Shape_Leng</th>\n",
       "      <th>Type</th>\n",
       "      <th>Street</th>\n",
       "      <th>From_</th>\n",
       "      <th>To</th>\n",
       "      <th>Direction</th>\n",
       "      <th>Lane_Count</th>\n",
       "    </tr>\n",
       "  </thead>\n",
       "  <tbody>\n",
       "    <tr>\n",
       "      <th>0</th>\n",
       "      <td>1828.458738</td>\n",
       "      <td>NEIGHBORHOOD GREENWAY</td>\n",
       "      <td>HAGUE ST</td>\n",
       "      <td>PATERSON PLANK RD</td>\n",
       "      <td>NELSON ST</td>\n",
       "      <td>W</td>\n",
       "      <td>NaN</td>\n",
       "    </tr>\n",
       "    <tr>\n",
       "      <th>1</th>\n",
       "      <td>773.229923</td>\n",
       "      <td>NEIGHBORHOOD GREENWAY</td>\n",
       "      <td>LEONARD ST</td>\n",
       "      <td>NELSON ST</td>\n",
       "      <td>TERRACE AVE</td>\n",
       "      <td>E/W</td>\n",
       "      <td>NaN</td>\n",
       "    </tr>\n",
       "    <tr>\n",
       "      <th>2</th>\n",
       "      <td>1977.834527</td>\n",
       "      <td>NEIGHBORHOOD GREENWAY</td>\n",
       "      <td>LEONARD ST</td>\n",
       "      <td>NELSON ST</td>\n",
       "      <td>CENTRAL AVE</td>\n",
       "      <td>E</td>\n",
       "      <td>NaN</td>\n",
       "    </tr>\n",
       "    <tr>\n",
       "      <th>3</th>\n",
       "      <td>1976.023126</td>\n",
       "      <td>BIKE LANE</td>\n",
       "      <td>GRACE ST</td>\n",
       "      <td>CENTRAL AVE</td>\n",
       "      <td>NELSON ST</td>\n",
       "      <td>W</td>\n",
       "      <td>1</td>\n",
       "    </tr>\n",
       "    <tr>\n",
       "      <th>4</th>\n",
       "      <td>1980.164565</td>\n",
       "      <td>BIKE LANE</td>\n",
       "      <td>POPLAR ST</td>\n",
       "      <td>NELSON ST</td>\n",
       "      <td>CENTRAL AVE</td>\n",
       "      <td>E</td>\n",
       "      <td>1</td>\n",
       "    </tr>\n",
       "    <tr>\n",
       "      <th>...</th>\n",
       "      <td>...</td>\n",
       "      <td>...</td>\n",
       "      <td>...</td>\n",
       "      <td>...</td>\n",
       "      <td>...</td>\n",
       "      <td>...</td>\n",
       "      <td>...</td>\n",
       "    </tr>\n",
       "    <tr>\n",
       "      <th>306</th>\n",
       "      <td>3045.489279</td>\n",
       "      <td>SHARED USE PATH</td>\n",
       "      <td>NaN</td>\n",
       "      <td>NaN</td>\n",
       "      <td>NaN</td>\n",
       "      <td>NaN</td>\n",
       "      <td>NaN</td>\n",
       "    </tr>\n",
       "    <tr>\n",
       "      <th>307</th>\n",
       "      <td>991.190128</td>\n",
       "      <td>PROTECTED BIKE LANE</td>\n",
       "      <td>COUNTY ROAD</td>\n",
       "      <td>MANHATTAN AVE</td>\n",
       "      <td>NaN</td>\n",
       "      <td>N/S</td>\n",
       "      <td>2</td>\n",
       "    </tr>\n",
       "    <tr>\n",
       "      <th>308</th>\n",
       "      <td>4903.331095</td>\n",
       "      <td>SHARED USE LANE</td>\n",
       "      <td>COUNTY RD</td>\n",
       "      <td>COUNTY RD</td>\n",
       "      <td>CITY LINE</td>\n",
       "      <td>E/W</td>\n",
       "      <td>2</td>\n",
       "    </tr>\n",
       "    <tr>\n",
       "      <th>309</th>\n",
       "      <td>92.342794</td>\n",
       "      <td>NEIGHBORHOOD GREENWAY</td>\n",
       "      <td>NELSON AVE</td>\n",
       "      <td>LEONARD ST</td>\n",
       "      <td>LEONARD ST</td>\n",
       "      <td>N/S</td>\n",
       "      <td>2</td>\n",
       "    </tr>\n",
       "    <tr>\n",
       "      <th>310</th>\n",
       "      <td>3817.225665</td>\n",
       "      <td>SHARED USE PATH</td>\n",
       "      <td>NaN</td>\n",
       "      <td>NaN</td>\n",
       "      <td>NaN</td>\n",
       "      <td>NaN</td>\n",
       "      <td>NaN</td>\n",
       "    </tr>\n",
       "  </tbody>\n",
       "</table>\n",
       "<p>311 rows × 7 columns</p>\n",
       "</div>"
      ],
      "text/plain": [
       "      Shape_Leng                   Type       Street              From_  \\\n",
       "0    1828.458738  NEIGHBORHOOD GREENWAY     HAGUE ST  PATERSON PLANK RD   \n",
       "1     773.229923  NEIGHBORHOOD GREENWAY   LEONARD ST          NELSON ST   \n",
       "2    1977.834527  NEIGHBORHOOD GREENWAY   LEONARD ST          NELSON ST   \n",
       "3    1976.023126              BIKE LANE     GRACE ST        CENTRAL AVE   \n",
       "4    1980.164565              BIKE LANE    POPLAR ST          NELSON ST   \n",
       "..           ...                    ...          ...                ...   \n",
       "306  3045.489279        SHARED USE PATH          NaN                NaN   \n",
       "307   991.190128    PROTECTED BIKE LANE  COUNTY ROAD      MANHATTAN AVE   \n",
       "308  4903.331095        SHARED USE LANE    COUNTY RD          COUNTY RD   \n",
       "309    92.342794  NEIGHBORHOOD GREENWAY   NELSON AVE         LEONARD ST   \n",
       "310  3817.225665        SHARED USE PATH          NaN                NaN   \n",
       "\n",
       "              To Direction Lane_Count  \n",
       "0      NELSON ST         W        NaN  \n",
       "1    TERRACE AVE       E/W        NaN  \n",
       "2    CENTRAL AVE         E        NaN  \n",
       "3      NELSON ST         W          1  \n",
       "4    CENTRAL AVE         E          1  \n",
       "..           ...       ...        ...  \n",
       "306          NaN       NaN        NaN  \n",
       "307          NaN       N/S          2  \n",
       "308    CITY LINE       E/W          2  \n",
       "309   LEONARD ST       N/S          2  \n",
       "310          NaN       NaN        NaN  \n",
       "\n",
       "[311 rows x 7 columns]"
      ]
     },
     "execution_count": 19,
     "metadata": {},
     "output_type": "execute_result"
    }
   ],
   "source": [
    "df = f.to_dataframe()\n",
    "df"
   ]
  },
  {
   "cell_type": "code",
   "execution_count": 20,
   "id": "a9418372",
   "metadata": {},
   "outputs": [
    {
     "data": {
      "text/plain": [
       "NEIGHBORHOOD GREENWAY    107\n",
       "BIKE LANE                 72\n",
       "PROTECTED BIKE LANE       64\n",
       "SHARED USE LANE           39\n",
       "SHARED USE PATH           29\n",
       "Name: Type, dtype: int64"
      ]
     },
     "execution_count": 20,
     "metadata": {},
     "output_type": "execute_result"
    }
   ],
   "source": [
    "df.Type.value_counts()"
   ]
  },
  {
   "cell_type": "code",
   "execution_count": null,
   "id": "56cc7f18",
   "metadata": {},
   "outputs": [],
   "source": []
  }
 ],
 "metadata": {
  "kernelspec": {
   "display_name": "Python 3 (ipykernel)",
   "language": "python",
   "name": "python3"
  },
  "language_info": {
   "codemirror_mode": {
    "name": "ipython",
    "version": 3
   },
   "file_extension": ".py",
   "mimetype": "text/x-python",
   "name": "python",
   "nbconvert_exporter": "python",
   "pygments_lexer": "ipython3",
   "version": "3.9.7"
  }
 },
 "nbformat": 4,
 "nbformat_minor": 5
}
